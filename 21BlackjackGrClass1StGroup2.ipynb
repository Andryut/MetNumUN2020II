{
  "nbformat": 4,
  "nbformat_minor": 0,
  "metadata": {
    "colab": {
      "name": "lab-4.ipynb",
      "provenance": [],
      "collapsed_sections": [
        "-_pG_eAyfEyA",
        "HywO-qW7Ku3r"
      ]
    },
    "kernelspec": {
      "name": "python3",
      "display_name": "Python 3"
    }
  },
  "cells": [
    {
      "cell_type": "code",
      "metadata": {
        "id": "_gkVwrU_EK0Z",
        "colab_type": "code",
        "colab": {}
      },
      "source": [
        "import random as r\n",
        "import numpy as np\n",
        "import matplotlib.pyplot as plt"
      ],
      "execution_count": 1,
      "outputs": []
    },
    {
      "cell_type": "code",
      "metadata": {
        "id": "UmCo5ZdQcma5",
        "colab_type": "code",
        "colab": {}
      },
      "source": [
        "def print_histogram(hist, min, max):\n",
        "  plt.bar(list(range(min, max)), hist[min:max], align='center', width=0.9)\n",
        "  plt.xlabel('Number of cards')\n",
        "  plt.xticks(list(range(min, max)))\n",
        "  plt.title('Experimental distribution of cards to get 21')\n",
        "  plt.show()"
      ],
      "execution_count": 2,
      "outputs": []
    },
    {
      "cell_type": "code",
      "metadata": {
        "id": "UmFbqbU5bB0X",
        "colab_type": "code",
        "colab": {}
      },
      "source": [
        "def calculate_probability(cards, n, initial_sum=0):\n",
        "  count = 0\n",
        "  cards_distribution = [0]*11\n",
        "  min_distribution = 11\n",
        "  max_distribution = 1\n",
        "  for i in range(n):\n",
        "    cards_copy = cards.copy()\n",
        "    sum = initial_sum\n",
        "    cards_count = 0\n",
        "    while sum < 21:\n",
        "      choice = r.choice(cards_copy)\n",
        "      cards_copy.remove(choice)\n",
        "      sum += choice\n",
        "      cards_count += 1\n",
        "    if sum == 21:\n",
        "      min_distribution = cards_count if cards_count < min_distribution else min_distribution\n",
        "      max_distribution = cards_count if cards_count > max_distribution else max_distribution\n",
        "      cards_distribution[cards_count] += 1\n",
        "      count += 1\n",
        "  print_histogram(cards_distribution, min_distribution, max_distribution)\n",
        "  return count/n\n"
      ],
      "execution_count": 3,
      "outputs": []
    },
    {
      "cell_type": "code",
      "metadata": {
        "id": "jR2nCODrU9uR",
        "colab_type": "code",
        "colab": {}
      },
      "source": [
        "def compute_half_deck(cards):\n",
        "  cards=cards*4\n",
        "  l = len(cards)\n",
        "  cards.remove(7)\n",
        "  cards.remove(7)\n",
        "  cards.remove(5)\n",
        "  choices = []\n",
        "  for c in range(0, int(l/2) - 3):\n",
        "    choice = r.choice(cards)\n",
        "    choices.append(choice)\n",
        "    cards.remove(choice)\n",
        "  return cards;"
      ],
      "execution_count": 4,
      "outputs": []
    },
    {
      "cell_type": "markdown",
      "metadata": {
        "id": "kzZ9swODwQfU",
        "colab_type": "text"
      },
      "source": [
        "# 1. Calculate the probability of getting a 21 drawing cards sequentially from shuffled Spanish 48-deck with card values \n",
        "1. (a): Cards=[1,2,3,4,5,6,7,10,11,12]"
      ]
    },
    {
      "cell_type": "code",
      "metadata": {
        "id": "PUjgbGh8eh23",
        "colab_type": "code",
        "colab": {
          "base_uri": "https://localhost:8080/",
          "height": 312
        },
        "outputId": "53e818c2-9e44-4761-e6ba-823e832ce398"
      },
      "source": [
        "print(\"Probablity with spanish deck: \", calculate_probability(list(range(1,13))*4, n=100000000))"
      ],
      "execution_count": 5,
      "outputs": [
        {
          "output_type": "display_data",
          "data": {
            "image/png": "[encoded data removed]",
            "text/plain": [
              "<Figure size 432x288 with 1 Axes>"
            ]
          },
          "metadata": {
            "tags": [],
            "needs_background": "light"
          }
        },
        {
          "output_type": "stream",
          "text": [
            "Probablity with spanish deck:  0.15780614\n"
          ],
          "name": "stdout"
        }
      ]
    },
    {
      "cell_type": "markdown",
      "metadata": {
        "id": "dIzISsJ7fHhe",
        "colab_type": "text"
      },
      "source": [
        "1. (b): Cards=[1,2,3,4,5,6,7,10,11,12,13]\n"
      ]
    },
    {
      "cell_type": "code",
      "metadata": {
        "id": "CNIO2ie5fNDw",
        "colab_type": "code",
        "colab": {
          "base_uri": "https://localhost:8080/",
          "height": 312
        },
        "outputId": "190e10cc-706c-4d4d-b75a-1758fe22efab"
      },
      "source": [
        "print(\"Probablity with poker deck: \",calculate_probability(list(range(1,14))*4,n=100000000))"
      ],
      "execution_count": 6,
      "outputs": [
        {
          "output_type": "display_data",
          "data": {
            "image/png": "[encoded data removed]",
            "text/plain": [
              "<Figure size 432x288 with 1 Axes>"
            ]
          },
          "metadata": {
            "tags": [],
            "needs_background": "light"
          }
        },
        {
          "output_type": "stream",
          "text": [
            "Probablity with poker deck:  0.14472983\n"
          ],
          "name": "stdout"
        }
      ]
    },
    {
      "cell_type": "markdown",
      "metadata": {
        "id": "Y1l9NsD-fFuE",
        "colab_type": "text"
      },
      "source": [
        "# 2. Calculate the probability of getting a 21 drawing cards sequentially from shuffled Spanish 48-deck with card values "
      ]
    },
    {
      "cell_type": "markdown",
      "metadata": {
        "colab_type": "text",
        "id": "RisLLYmwMkds"
      },
      "source": [
        "2 (a) Deck=[1,2,3,4,5,6,7,8,9,10,10,10]\n",
        "\n"
      ]
    },
    {
      "cell_type": "code",
      "metadata": {
        "id": "bc2NjmPzfo4k",
        "colab_type": "code",
        "colab": {
          "base_uri": "https://localhost:8080/",
          "height": 312
        },
        "outputId": "044fd4f2-4326-4d5c-8e0d-b06f58cb8d38"
      },
      "source": [
        "print(\"Probablity: \",calculate_probability([1,2,3,4,5,6,7,8,9,10,10,10]*4,n=100000000))"
      ],
      "execution_count": 7,
      "outputs": [
        {
          "output_type": "display_data",
          "data": {
            "image/png": "[encoded data removed]",
            "text/plain": [
              "<Figure size 432x288 with 1 Axes>"
            ]
          },
          "metadata": {
            "tags": [],
            "needs_background": "light"
          }
        },
        {
          "output_type": "stream",
          "text": [
            "Probablity:  0.14968574\n"
          ],
          "name": "stdout"
        }
      ]
    },
    {
      "cell_type": "markdown",
      "metadata": {
        "id": "tM0v7aRWgyKU",
        "colab_type": "text"
      },
      "source": [
        "2 (b) Deck=[1,2,3,4,5,6,7,8,9,10,10,10,10]"
      ]
    },
    {
      "cell_type": "code",
      "metadata": {
        "id": "6Z_bY_9Zg-Jl",
        "colab_type": "code",
        "colab": {
          "base_uri": "https://localhost:8080/",
          "height": 312
        },
        "outputId": "c80fc2fe-e4e2-4e12-d831-4902bd050337"
      },
      "source": [
        "print(\"Probablity: \",calculate_probability([1,2,3,4,5,6,7,8,9,10,10,10,10]*4,n=100000000))"
      ],
      "execution_count": 8,
      "outputs": [
        {
          "output_type": "display_data",
          "data": {
            "image/png": "[encoded data removed]",
            "text/plain": [
              "<Figure size 432x288 with 1 Axes>"
            ]
          },
          "metadata": {
            "tags": [],
            "needs_background": "light"
          }
        },
        {
          "output_type": "stream",
          "text": [
            "Probablity:  0.14012386\n"
          ],
          "name": "stdout"
        }
      ]
    },
    {
      "cell_type": "markdown",
      "metadata": {
        "id": "raWVSz9dkFnE",
        "colab_type": "text"
      },
      "source": [
        "# 3. Find remaining decks for Spanish and Poker card decks\n",
        "3 (a) Cards=[1,2,3,4,5,6,7,10,11,12]"
      ]
    },
    {
      "cell_type": "code",
      "metadata": {
        "id": "E40MIERUiVeP",
        "colab_type": "code",
        "colab": {
          "base_uri": "https://localhost:8080/",
          "height": 295
        },
        "outputId": "e14970b0-3c1f-45c2-a47e-6738f67445ef"
      },
      "source": [
        "cards=compute_half_deck([1,2,3,4,5,6,7,8,9,10,11,12])\n",
        "print(\"Probablity: \", calculate_probability(cards, n=100000000, initial_sum=19))"
      ],
      "execution_count": 9,
      "outputs": [
        {
          "output_type": "display_data",
          "data": {
            "image/png": "[encoded data removed]",
            "text/plain": [
              "<Figure size 432x288 with 1 Axes>"
            ]
          },
          "metadata": {
            "tags": [],
            "needs_background": "light"
          }
        },
        {
          "output_type": "stream",
          "text": [
            "Probablity:  0.16667724\n"
          ],
          "name": "stdout"
        }
      ]
    },
    {
      "cell_type": "markdown",
      "metadata": {
        "id": "a__bUGV0kTCl",
        "colab_type": "text"
      },
      "source": [
        "3 (b) Cards=[1,2,3,4,5,6,7,10,11,12,13]"
      ]
    },
    {
      "cell_type": "code",
      "metadata": {
        "id": "3-ZewNSYjylE",
        "colab_type": "code",
        "colab": {
          "base_uri": "https://localhost:8080/",
          "height": 295
        },
        "outputId": "8237878f-77f5-470f-9ebf-d382146a9e44"
      },
      "source": [
        "cards=compute_half_deck([1,2,3,4,5,6,7,8,9,10,11,12,13])\n",
        "print(\"Probablity: \", calculate_probability(cards, n=100000000, initial_sum=19))"
      ],
      "execution_count": 10,
      "outputs": [
        {
          "output_type": "display_data",
          "data": {
            "image/png": "[encoded data removed]",
            "text/plain": [
              "<Figure size 432x288 with 1 Axes>"
            ]
          },
          "metadata": {
            "tags": [],
            "needs_background": "light"
          }
        },
        {
          "output_type": "stream",
          "text": [
            "Probablity:  0.11542532\n"
          ],
          "name": "stdout"
        }
      ]
    },
    {
      "cell_type": "markdown",
      "metadata": {
        "id": "-_pG_eAyfEyA",
        "colab_type": "text"
      },
      "source": [
        "# 4. Find remaining decks for Spanish and Poker card decks"
      ]
    },
    {
      "cell_type": "markdown",
      "metadata": {
        "id": "HywO-qW7Ku3r",
        "colab_type": "text"
      },
      "source": [
        "# Hot Deck Probability - SPANISH & POKER\n",
        "**Anatically.**\n",
        "Given [7,7,5] the probability of getting 2, is:\n",
        "\n",
        "1.  Getting one card: 2\n",
        "2.   Getting two cards: 1, 1\n",
        "\n",
        "*   Probabilidad de sacar 2 con dos cartas 1:\n",
        "$ P_{(2)}$ = ${4}\\choose{2}$ / ${12}\\choose{2} $ \n",
        "*   Probabilidad de sacar 2 con una carta 2:\n",
        "$ P_{(2)} =  \\frac{4}{12}  $ \n",
        "*   Probabilidad total:\n",
        "$P_{(2)}= \\frac{4}{12} + \\frac{6}{66} = 0.424242$ \n"
      ]
    },
    {
      "cell_type": "markdown",
      "metadata": {
        "id": "n5EOq_E2jTTH",
        "colab_type": "text"
      },
      "source": [
        "# Cold Deck Probability - SPANISH & POKER\n",
        "**Anatically.**\n",
        "Given [7,7,5] the probability of getting 2, is:\n",
        "\n",
        "1.  Getting one card: 2\n",
        "2.   Getting two cards: 1, 1\n",
        "\n",
        "*   Probabilidad de sacar 2 con dos cartas 1:\n",
        "$ P_{(2)} = \\frac{0}{12}$ \n",
        "*   Probabilidad de sacar 2 con una carta 2:\n",
        "$ P_{(2)} = \\frac{0}{12}$ \n",
        "*   Probabilidad total:\n",
        "$ P_{(2)} = \\frac{0}{12}$ \n"
      ]
    },
    {
      "cell_type": "code",
      "metadata": {
        "id": "L7usWFYGWreD",
        "colab_type": "code",
        "colab": {}
      },
      "source": [
        "hot_deck = [1, 2]*4\n",
        "cold_deck = [11, 12]*4"
      ],
      "execution_count": 11,
      "outputs": []
    },
    {
      "cell_type": "code",
      "metadata": {
        "id": "sNCtXnUmW6ij",
        "colab_type": "code",
        "colab": {
          "base_uri": "https://localhost:8080/",
          "height": 312
        },
        "outputId": "38524e60-62dc-4a6d-fe98-fcddd2570ac0"
      },
      "source": [
        "print(\"Probablity of the hot deck: \", calculate_probability(hot_deck, n=100000000, initial_sum=19))"
      ],
      "execution_count": 12,
      "outputs": [
        {
          "output_type": "display_data",
          "data": {
            "image/png": "[encoded data removed]",
            "text/plain": [
              "<Figure size 432x288 with 1 Axes>"
            ]
          },
          "metadata": {
            "tags": [],
            "needs_background": "light"
          }
        },
        {
          "output_type": "stream",
          "text": [
            "Probablity of the hot deck:  0.71429977\n"
          ],
          "name": "stdout"
        }
      ]
    },
    {
      "cell_type": "code",
      "metadata": {
        "id": "eGsi4smdXE5k",
        "colab_type": "code",
        "colab": {
          "base_uri": "https://localhost:8080/",
          "height": 295
        },
        "outputId": "ba09219b-75e6-4e6d-bcf4-237eb4c7a4c2"
      },
      "source": [
        "print(\"Probablity of the cold deck: \", calculate_probability(cold_deck, n=100000000, initial_sum=19))"
      ],
      "execution_count": 13,
      "outputs": [
        {
          "output_type": "display_data",
          "data": {
            "image/png": "[encoded data removed]",
            "text/plain": [
              "<Figure size 432x288 with 1 Axes>"
            ]
          },
          "metadata": {
            "tags": [],
            "needs_background": "light"
          }
        },
        {
          "output_type": "stream",
          "text": [
            "Probablity of the cold deck:  0.0\n"
          ],
          "name": "stdout"
        }
      ]
    },
    {
      "cell_type": "code",
      "metadata": {
        "id": "8QJbJoiDXx32",
        "colab_type": "code",
        "colab": {}
      },
      "source": [
        "hot_deck = [1,2]*4\n",
        "cold_deck = [12,13]*4"
      ],
      "execution_count": 14,
      "outputs": []
    },
    {
      "cell_type": "code",
      "metadata": {
        "id": "hxDemGYdX453",
        "colab_type": "code",
        "colab": {
          "base_uri": "https://localhost:8080/",
          "height": 312
        },
        "outputId": "79ab2758-2c01-4809-c6a6-484f59dfcc9a"
      },
      "source": [
        "print(\"Probablity of the hot deck: \", calculate_probability(hot_deck, n=100000000, initial_sum=19))"
      ],
      "execution_count": 15,
      "outputs": [
        {
          "output_type": "display_data",
          "data": {
            "image/png": "[encoded data removed]",
            "text/plain": [
              "<Figure size 432x288 with 1 Axes>"
            ]
          },
          "metadata": {
            "tags": [],
            "needs_background": "light"
          }
        },
        {
          "output_type": "stream",
          "text": [
            "Probablity of the hot deck:  0.71421778\n"
          ],
          "name": "stdout"
        }
      ]
    },
    {
      "cell_type": "code",
      "metadata": {
        "id": "76NDT9AjX6zv",
        "colab_type": "code",
        "colab": {
          "base_uri": "https://localhost:8080/",
          "height": 295
        },
        "outputId": "34d0802f-dadb-466b-c99a-1939b28e4aaf"
      },
      "source": [
        "print(\"Probablity of the cold deck: \", calculate_probability(cold_deck, n=100000000, initial_sum=19))"
      ],
      "execution_count": 16,
      "outputs": [
        {
          "output_type": "display_data",
          "data": {
            "image/png": "[encoded data removed]",
            "text/plain": [
              "<Figure size 432x288 with 1 Axes>"
            ]
          },
          "metadata": {
            "tags": [],
            "needs_background": "light"
          }
        },
        {
          "output_type": "stream",
          "text": [
            "Probablity of the cold deck:  0.0\n"
          ],
          "name": "stdout"
        }
      ]
    },
    {
      "cell_type": "markdown",
      "metadata": {
        "id": "zm8t2v_l89Zy",
        "colab_type": "text"
      },
      "source": [
        "#5. Ben goes to Vegas\n",
        "\n",
        "What is the estimated amount of money that Ben wins or losses on a weekend estimated with 10 million simulations using both the Spanish and Poker card decks?\n"
      ]
    },
    {
      "cell_type": "markdown",
      "metadata": {
        "id": "-X3eK4JUeXMd",
        "colab_type": "text"
      },
      "source": [
        "**Analisis**\n",
        "* It is 30 hours of game every weekend. 3 * 10 = 30 hours\n",
        "* It is equivalent of 1800 minutes. 30 * 60 = 1800 minutes\n",
        "* It is equivalent of 600 games every weekend (the three days). 1800 minutes / 3 minutes per game = 600 games"
      ]
    },
    {
      "cell_type": "code",
      "metadata": {
        "id": "VmwviY64ly4p",
        "colab_type": "code",
        "colab": {}
      },
      "source": [
        "def bet_play(cards, games, initial_sum, prob_deck=None):\n",
        "  #Cards data\n",
        "  count = 0\n",
        "  cards_distribution = []\n",
        "  min_distribution = 11\n",
        "  max_distribution = 1\n",
        "  average_cards = [] \n",
        "\n",
        "  #Money data\n",
        "  money_bet = 1000\n",
        "  money_earned = 0\n",
        "\n",
        "  for j in range(n): #Simulating 10 million times\n",
        "    cards_distribution = [] #Every weekend, the cards distribution is resetted\n",
        "    count = 0 #How many times you get 21 in a weekend\n",
        "    for i in range(games): #This loop represents 600 games, which is 1 weekend of gambling\n",
        "      if prob_deck == 's':\n",
        "        cards = get_deck_for_spanish()\n",
        "      elif prob_deck == 'p':\n",
        "        cards = get_deck_for_poker()\n",
        "      cards_copy = cards.copy()\n",
        "      sum_cards = initial_sum\n",
        "      cards_count = 0\n",
        "      while sum_cards < 21:\n",
        "        choice = r.choice(cards_copy)\n",
        "        cards_copy.remove(choice)\n",
        "        sum_cards += choice\n",
        "        cards_count += 1\n",
        "      if sum_cards == 21:\n",
        "        min_distribution = cards_count if cards_count < min_distribution else min_distribution\n",
        "        max_distribution = cards_count if cards_count > max_distribution else max_distribution\n",
        "        cards_distribution.append(cards_count)\n",
        "        count += 1\n",
        "        money_earned += (money_bet * 12) #Assuming you earn three times what you bet\n",
        "    if count != 0:\n",
        "      average_cards.append( sum(cards_distribution) / count ) #Every weekend you get average cards. This accumulates the averages.\n",
        "    else:\n",
        "      average_cards.append(0)\n",
        "  #print_histogram(cards_distribution, min_distribution, max_distribution)\n",
        "  \n",
        "  return (money_earned / n, average_cards) #Returns (average of money earned on a weekend, distribution of the average of cards to get 21)"
      ],
      "execution_count": 17,
      "outputs": []
    },
    {
      "cell_type": "code",
      "metadata": {
        "id": "paUm-DrYls7P",
        "colab_type": "code",
        "colab": {}
      },
      "source": [
        "def hist(datos,xlabel,ylabel, color): \n",
        "  plt.hist(datos, bins='auto', facecolor=color)\n",
        "  plt.xlabel = xlabel\n",
        "  plt.ylabel = ylabel\n",
        "  plt.show()"
      ],
      "execution_count": 18,
      "outputs": []
    },
    {
      "cell_type": "code",
      "metadata": {
        "id": "zysXF6aMBlBc",
        "colab_type": "code",
        "colab": {}
      },
      "source": [
        "def get_deck_for_spanish():\n",
        "  hot = [1, 1, 2, 3, 3, 3, 3, 4, 4, 4, 4, 5]\n",
        "  cold = [1, 2, 3, 4, 5, 6, 7, 8, 9, 10, 11, 12] * 4\n",
        "  n = r.randint(0,10)\n",
        "  if n == 0:\n",
        "    return hot\n",
        "  return cold"
      ],
      "execution_count": 19,
      "outputs": []
    },
    {
      "cell_type": "code",
      "metadata": {
        "id": "cX54s2N4B7Pj",
        "colab_type": "code",
        "colab": {}
      },
      "source": [
        "def get_deck_for_poker():\n",
        "  hot = [1, 1, 2, 3, 3, 3, 3, 4, 4, 4, 4, 5]\n",
        "  cold = [1, 2, 3, 4, 5, 6, 7, 8, 9, 10, 11, 12, 13] * 4\n",
        "  n = r.randint(0,10)\n",
        "  if n == 0:\n",
        "    return hot\n",
        "  return cold"
      ],
      "execution_count": 20,
      "outputs": []
    },
    {
      "cell_type": "markdown",
      "metadata": {
        "id": "ISiF0EJZSqoi",
        "colab_type": "text"
      },
      "source": [
        "**SPANISH deck**"
      ]
    },
    {
      "cell_type": "code",
      "metadata": {
        "id": "1rnzq4ryWYlM",
        "colab_type": "code",
        "colab": {}
      },
      "source": [
        "#Data\n",
        "n = 10000\n",
        "initial_sum = 0 # Having nothing\n",
        "games_per_weekend = 600"
      ],
      "execution_count": 21,
      "outputs": []
    },
    {
      "cell_type": "code",
      "metadata": {
        "id": "Qk42bJjvWhyR",
        "colab_type": "code",
        "colab": {
          "base_uri": "https://localhost:8080/",
          "height": 51
        },
        "outputId": "845da3c5-957e-4063-ebad-becc6ae75ea7"
      },
      "source": [
        "#Results\n",
        "simulation = bet_play([], games_per_weekend, initial_sum, prob_deck='s') \n",
        "money_earned = simulation[0]\n",
        "distribution = simulation[1]\n",
        "print(\"Money Earned: %d\"%(money_earned))\n",
        "print(\"Average cards to get 21: \", sum(distribution) / len(distribution) ) #Sums all averages, divides into number of them. This is:  the average of the averages of cards to get 21"
      ],
      "execution_count": 22,
      "outputs": [
        {
          "output_type": "stream",
          "text": [
            "Money Earned: 1245325\n",
            "Average cards to get 21:  3.996176218299922\n"
          ],
          "name": "stdout"
        }
      ]
    },
    {
      "cell_type": "code",
      "metadata": {
        "id": "6vk-hou6dqOD",
        "colab_type": "code",
        "colab": {
          "base_uri": "https://localhost:8080/",
          "height": 265
        },
        "outputId": "4ccc77c0-0526-438d-dc7e-8512720c48ab"
      },
      "source": [
        "#Histogram cold deck\n",
        "xlabel='Número de cartas obtenidas para obtener 21'\n",
        "ylabel='Cantidad de repeticiones'\n",
        "color='blue'\n",
        "hist(distribution, xlabel, ylabel, color)"
      ],
      "execution_count": 23,
      "outputs": [
        {
          "output_type": "display_data",
          "data": {
            "image/png": "[encoded data removed]",
            "text/plain": [
              "<Figure size 432x288 with 1 Axes>"
            ]
          },
          "metadata": {
            "tags": [],
            "needs_background": "light"
          }
        }
      ]
    },
    {
      "cell_type": "markdown",
      "metadata": {
        "id": "G4eMgJZXr8zC",
        "colab_type": "text"
      },
      "source": [
        "**POKER deck**"
      ]
    },
    {
      "cell_type": "code",
      "metadata": {
        "id": "QjftOempspTs",
        "colab_type": "code",
        "colab": {}
      },
      "source": [
        "#Data\n",
        "n = 10000\n",
        "initial_sum = 0 # Having nothing\n",
        "games_per_weekend = 600"
      ],
      "execution_count": 24,
      "outputs": []
    },
    {
      "cell_type": "code",
      "metadata": {
        "id": "77Im0HHMswkT",
        "colab_type": "code",
        "colab": {
          "base_uri": "https://localhost:8080/",
          "height": 51
        },
        "outputId": "ec5227f2-d9ae-490b-b660-dcbf7ef682fc"
      },
      "source": [
        "#Results\n",
        "simulation = bet_play([], games_per_weekend, initial_sum, prob_deck='p') \n",
        "money_earned = simulation[0]\n",
        "distribution = simulation[1]\n",
        "print(\"Money Earned: %d\"%(money_earned))\n",
        "print(\"Average cards to get 21: \", sum(distribution) / len(distribution)) #Sums all averages, divides into number of them. This is:  the average of the averages of cards to get 21"
      ],
      "execution_count": 25,
      "outputs": [
        {
          "output_type": "stream",
          "text": [
            "Money Earned: 1158174\n",
            "Average cards to get 21:  3.8772651390636996\n"
          ],
          "name": "stdout"
        }
      ]
    },
    {
      "cell_type": "code",
      "metadata": {
        "id": "1rVy4FDitBJ1",
        "colab_type": "code",
        "colab": {
          "base_uri": "https://localhost:8080/",
          "height": 265
        },
        "outputId": "78272a06-1972-4c24-961f-a4fd48ef3271"
      },
      "source": [
        "#Histogram cold deck\n",
        "xlabel='Número de cartas obtenidas para obtener 21'\n",
        "ylabel='Cantidad de repeticiones'\n",
        "color='blue'\n",
        "hist(distribution, xlabel, ylabel, color)"
      ],
      "execution_count": 26,
      "outputs": [
        {
          "output_type": "display_data",
          "data": {
            "image/png": "[encoded data removed]",
            "text/plain": [
              "<Figure size 432x288 with 1 Axes>"
            ]
          },
          "metadata": {
            "tags": [],
            "needs_background": "light"
          }
        }
      ]
    },
    {
      "cell_type": "markdown",
      "metadata": {
        "id": "GVqJCMHciwJf",
        "colab_type": "text"
      },
      "source": [
        "# 6. Extra credits"
      ]
    },
    {
      "cell_type": "code",
      "metadata": {
        "id": "bL3GHGNFxN3Q",
        "colab_type": "code",
        "colab": {}
      },
      "source": [
        "#Data\n",
        "n = 10000\n",
        "initial_sum = 19\n",
        "games_per_weekend = 600"
      ],
      "execution_count": 27,
      "outputs": []
    },
    {
      "cell_type": "code",
      "metadata": {
        "id": "86D4hENBxHbP",
        "colab_type": "code",
        "colab": {
          "base_uri": "https://localhost:8080/",
          "height": 299
        },
        "outputId": "55b7b245-ccbd-4c2b-94ac-e6d701dace7b"
      },
      "source": [
        "# Hot deck for 8 cards\n",
        "cards = [1,2]*4\n",
        "#Results\n",
        "simulation = bet_play(cards, games_per_weekend, initial_sum) \n",
        "money_earned = simulation[0]\n",
        "distribution = simulation[1]\n",
        "print(\"Money Earned: %d\"%(money_earned))\n",
        "print(\"Average cards to get 21: \", sum(distribution) / len(distribution) ) #Sums all averages, divides into number of them. This is:  the average of the averages of cards to get 21\n",
        "#Histogram cold deck\n",
        "xlabel='Número de cartas obtenidas para obtener 21'\n",
        "ylabel='Cantidad de repeticiones'\n",
        "color='blue'\n",
        "hist(distribution, xlabel, ylabel, color)"
      ],
      "execution_count": 28,
      "outputs": [
        {
          "output_type": "stream",
          "text": [
            "Money Earned: 5141898\n",
            "Average cards to get 21:  1.2996963577206584\n"
          ],
          "name": "stdout"
        },
        {
          "output_type": "display_data",
          "data": {
            "image/png": "[encoded data removed]",
            "text/plain": [
              "<Figure size 432x288 with 1 Axes>"
            ]
          },
          "metadata": {
            "tags": [],
            "needs_background": "light"
          }
        }
      ]
    },
    {
      "cell_type": "code",
      "metadata": {
        "id": "t-LD-H2ZcVA7",
        "colab_type": "code",
        "colab": {
          "base_uri": "https://localhost:8080/",
          "height": 299
        },
        "outputId": "2d54979e-6283-440f-f869-d35538d3ee98"
      },
      "source": [
        "# Hot deck for 10 cards\n",
        "cards = [1,2]*4 + [3,3]\n",
        "#Results\n",
        "simulation = bet_play(cards, games_per_weekend, initial_sum) \n",
        "money_earned = simulation[0]\n",
        "distribution = simulation[1]\n",
        "print(\"Money Earned: %d\"%(money_earned))\n",
        "print(\"Average cards to get 21: \", sum(distribution) / len(distribution) ) #Sums all averages, divides into number of them. This is:  the average of the averages of cards to get 21\n",
        "#Histogram cold deck\n",
        "xlabel='Número de cartas obtenidas para obtener 21'\n",
        "ylabel='Cantidad de repeticiones'\n",
        "color='blue'\n",
        "hist(distribution, xlabel, ylabel, color)"
      ],
      "execution_count": 29,
      "outputs": [
        {
          "output_type": "stream",
          "text": [
            "Money Earned: 3839785\n",
            "Average cards to get 21:  1.249928830627084\n"
          ],
          "name": "stdout"
        },
        {
          "output_type": "display_data",
          "data": {
            "image/png": "[encoded data removed]",
            "text/plain": [
              "<Figure size 432x288 with 1 Axes>"
            ]
          },
          "metadata": {
            "tags": [],
            "needs_background": "light"
          }
        }
      ]
    },
    {
      "cell_type": "code",
      "metadata": {
        "id": "JdN4LtZ8cx7o",
        "colab_type": "code",
        "colab": {
          "base_uri": "https://localhost:8080/",
          "height": 299
        },
        "outputId": "2bf6cb07-ad71-4aef-b0c5-81dca4b75478"
      },
      "source": [
        "# Hot deck for 12 cards\n",
        "cards = [1,2,3]*4\n",
        "#Results\n",
        "simulation = bet_play(cards, games_per_weekend, initial_sum) \n",
        "money_earned = simulation[0]\n",
        "distribution = simulation[1]\n",
        "print(\"Money Earned: %d\"%(money_earned))\n",
        "print(\"Average cards to get 21: \", sum(distribution) / len(distribution) ) #Sums all averages, divides into number of them. This is:  the average of the averages of cards to get 21\n",
        "#Histogram cold deck\n",
        "xlabel='Número de cartas obtenidas para obtener 21'\n",
        "ylabel='Cantidad de repeticiones'\n",
        "color='blue'\n",
        "hist(distribution, xlabel, ylabel, color)"
      ],
      "execution_count": 30,
      "outputs": [
        {
          "output_type": "stream",
          "text": [
            "Money Earned: 3052500\n",
            "Average cards to get 21:  1.214362121488132\n"
          ],
          "name": "stdout"
        },
        {
          "output_type": "display_data",
          "data": {
            "image/png": "[encoded data removed]",
            "text/plain": [
              "<Figure size 432x288 with 1 Axes>"
            ]
          },
          "metadata": {
            "tags": [],
            "needs_background": "light"
          }
        }
      ]
    }
  ]
}