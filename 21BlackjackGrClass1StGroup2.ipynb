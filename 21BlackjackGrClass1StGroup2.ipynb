{
  "nbformat": 4,
  "nbformat_minor": 0,
  "metadata": {
    "colab": {
      "name": "21BlackjackGrClass1StGroup2.ipynb",
      "provenance": [],
      "collapsed_sections": [
        "-_pG_eAyfEyA",
        "HywO-qW7Ku3r"
      ]
    },
    "kernelspec": {
      "name": "python3",
      "display_name": "Python 3"
    }
  },
  "cells": [
    {
      "cell_type": "code",
      "metadata": {
        "id": "_gkVwrU_EK0Z"
      },
      "source": [
        "import random as r\n",
        "import numpy as np\n",
        "import matplotlib.pyplot as plt"
      ],
      "execution_count": null,
      "outputs": []
    },
    {
      "cell_type": "code",
      "metadata": {
        "id": "UmCo5ZdQcma5"
      },
      "source": [
        "def print_histogram(hist, min, max):\n",
        "  print('Distribution: ', hist)\n",
        "  plt.bar(list(range(min, max)), hist[min:max], align='center', width=0.9)\n",
        "  plt.xlabel('Number of cards')\n",
        "  plt.xticks(list(range(min, max)))\n",
        "  plt.title('Experimental distribution of cards to get 21')\n",
        "  plt.show()"
      ],
      "execution_count": null,
      "outputs": []
    },
    {
      "cell_type": "code",
      "metadata": {
        "id": "UmFbqbU5bB0X"
      },
      "source": [
        "def calculate_probability(cards, n, initial_sum=0, c_count=0, plot=True):\n",
        "  count = 0\n",
        "  cards_distribution = [0]*11\n",
        "  min_distribution = 11\n",
        "  max_distribution = 1\n",
        "  for i in range(n):\n",
        "    cards_copy = cards.copy()\n",
        "    actual_sum = initial_sum\n",
        "    cards_count = c_count\n",
        "    while actual_sum < 21:\n",
        "      choice = r.choice(cards_copy)\n",
        "      cards_copy.remove(choice)\n",
        "      actual_sum += choice\n",
        "      cards_count += 1\n",
        "    if actual_sum == 21:\n",
        "      min_distribution = cards_count if cards_count < min_distribution else min_distribution\n",
        "      max_distribution = cards_count if cards_count > max_distribution else max_distribution\n",
        "      cards_distribution[cards_count] += 1\n",
        "      count += 1\n",
        "  if plot : print_histogram(cards_distribution, min_distribution, max_distribution + 1)\n",
        "\n",
        "  cards_to_get_21 = [cards_distribution[j]*j for j in range(len(cards_distribution))]\n",
        "  n_cards_to_get_21 = sum(cards_distribution)\n",
        "  average = 0\n",
        "  if n_cards_to_get_21 != 0:\n",
        "    avergae = sum(cards_to_get_21)/n_cards_to_get_21\n",
        "  return count/n, average\n"
      ],
      "execution_count": null,
      "outputs": []
    },
    {
      "cell_type": "code",
      "metadata": {
        "id": "jR2nCODrU9uR"
      },
      "source": [
        "def compute_half_deck(cards):\n",
        "  cards=cards*4\n",
        "  l = len(cards)\n",
        "  cards.remove(7)\n",
        "  cards.remove(7)\n",
        "  cards.remove(5)\n",
        "  choices = []\n",
        "  for c in range(0, int(l/2) - 3):\n",
        "    choice = r.choice(cards)\n",
        "    choices.append(choice)\n",
        "    cards.remove(choice)\n",
        "  return cards;"
      ],
      "execution_count": null,
      "outputs": []
    },
    {
      "cell_type": "markdown",
      "metadata": {
        "id": "kzZ9swODwQfU"
      },
      "source": [
        "# 1. Calculate the probability of getting a 21 drawing cards sequentially from shuffled Spanish 48-deck with card values \n",
        "1. (a): Cards=[1,2,3,4,5,6,7,10,11,12,1,2,3,4,5,6,7,10,11,12,1,2,3,4,5,6,7,10,11,12,1,2,3,4,5,6,7,10,11,12]"
      ]
    },
    {
      "cell_type": "code",
      "metadata": {
        "id": "PUjgbGh8eh23",
        "outputId": "dcf1f3c3-8f41-49e4-877a-6ef2c46dc01e",
        "colab": {
          "base_uri": "https://localhost:8080/",
          "height": 346
        }
      },
      "source": [
        "probability, average = calculate_probability(list(range(1,13))*4, n=100000000)\n",
        "print(\"Probablity with spanish deck: {}\\nAverage number of cards to get 21: {}\".format(probability, average))"
      ],
      "execution_count": null,
      "outputs": [
        {
          "output_type": "stream",
          "text": [
            "Distribution:  [0, 0, 2836496, 6266852, 4490856, 1711284, 402436, 61320, 5771, 291, 7]\n"
          ],
          "name": "stdout"
        },
        {
          "output_type": "display_data",
          "data": {
            "image/png": "[encoded data removed]",
            "text/plain": [
              "<Figure size 432x288 with 1 Axes>"
            ]
          },
          "metadata": {
            "tags": [],
            "needs_background": "light"
          }
        },
        {
          "output_type": "stream",
          "text": [
            "Probablity with spanish deck: 0.15775313\n",
            "Average number of cards to get 21: 0\n"
          ],
          "name": "stdout"
        }
      ]
    },
    {
      "cell_type": "markdown",
      "metadata": {
        "id": "dIzISsJ7fHhe"
      },
      "source": [
        "1. (b): Cards=[1,2,3,4,5,6,7,10,11,12,13,1,2,3,4,5,6,7,10,11,12,13,1,2,3,4,5,6,7,10,11,12,13,1,2,3,4,5,6,7,10,11,12,13]\n"
      ]
    },
    {
      "cell_type": "code",
      "metadata": {
        "id": "CNIO2ie5fNDw",
        "outputId": "5c26245a-73ff-4239-c325-9b95408f47df",
        "colab": {
          "base_uri": "https://localhost:8080/",
          "height": 346
        }
      },
      "source": [
        "probability, average = calculate_probability(list(range(1,14))*4, n=100000000)\n",
        "print(\"Probablity with poker deck: {}\\nAverage number of cards to get 21: {}\".format(probability, average))"
      ],
      "execution_count": null,
      "outputs": [
        {
          "output_type": "stream",
          "text": [
            "Distribution:  [0, 0, 3621433, 5881637, 3524012, 1166048, 243963, 33741, 2944, 122, 2]\n"
          ],
          "name": "stdout"
        },
        {
          "output_type": "display_data",
          "data": {
            "image/png": "[encoded data removed]",
            "text/plain": [
              "<Figure size 432x288 with 1 Axes>"
            ]
          },
          "metadata": {
            "tags": [],
            "needs_background": "light"
          }
        },
        {
          "output_type": "stream",
          "text": [
            "Probablity with poker deck: 0.14473902\n",
            "Average number of cards to get 21: 0\n"
          ],
          "name": "stdout"
        }
      ]
    },
    {
      "cell_type": "markdown",
      "metadata": {
        "id": "Y1l9NsD-fFuE"
      },
      "source": [
        "# 2. Calculate the probability of getting a 21 drawing cards sequentially from shuffled Spanish 48-deck with card values "
      ]
    },
    {
      "cell_type": "markdown",
      "metadata": {
        "id": "RisLLYmwMkds"
      },
      "source": [
        "2 (a) Deck=[1,2,3,4,5,6,7,8,9,10,10,10,1,2,3,4,5,6,7,8,9,10,10,10,1,2,3,4,5,6,7,8,9,10,10,10,1,2,3,4,5,6,7,8,9,10,10,10]\n",
        "\n"
      ]
    },
    {
      "cell_type": "code",
      "metadata": {
        "id": "bc2NjmPzfo4k",
        "outputId": "f446f9cc-ce35-407c-a0a6-37d0b7b69726",
        "colab": {
          "base_uri": "https://localhost:8080/",
          "height": 346
        }
      },
      "source": [
        "probability, average = calculate_probability([1,2,3,4,5,6,7,8,9,10,10,10]*4, n=100000000)\n",
        "print(\"Probablity with spanish deck: {}\\nAverage number of cards to get 21: {}\".format(probability, average))"
      ],
      "execution_count": null,
      "outputs": [
        {
          "output_type": "stream",
          "text": [
            "Distribution:  [0, 0, 0, 7516995, 5025766, 1913942, 439603, 63848, 5892, 319, 4]\n"
          ],
          "name": "stdout"
        },
        {
          "output_type": "display_data",
          "data": {
            "image/png": "[encoded data removed]",
            "text/plain": [
              "<Figure size 432x288 with 1 Axes>"
            ]
          },
          "metadata": {
            "tags": [],
            "needs_background": "light"
          }
        },
        {
          "output_type": "stream",
          "text": [
            "Probablity with spanish deck: 0.14966369\n",
            "Average number of cards to get 21: 0\n"
          ],
          "name": "stdout"
        }
      ]
    },
    {
      "cell_type": "markdown",
      "metadata": {
        "id": "tM0v7aRWgyKU"
      },
      "source": [
        "2 (b) Deck=[1,2,3,4,5,6,7,8,9,10,10,10,10,1,2,3,4,5,6,7,8,9,10,10,10,10,1,2,3,4,5,6,7,8,9,10,10,10,10,1,2,3,4,5,6,7,8,9,10,10,10,10]"
      ]
    },
    {
      "cell_type": "code",
      "metadata": {
        "id": "6Z_bY_9Zg-Jl",
        "outputId": "92c1c71d-af91-419c-c602-8802e8a50fa0",
        "colab": {
          "base_uri": "https://localhost:8080/",
          "height": 346
        }
      },
      "source": [
        "probability, average = calculate_probability([1,2,3,4,5,6,7,8,9,10,10,10,10]*4, n=100000000)\n",
        "print(\"Probablity with poker deck: {}\\nAverage number of cards to get 21: {}\".format(probability, average))"
      ],
      "execution_count": null,
      "outputs": [
        {
          "output_type": "stream",
          "text": [
            "Distribution:  [0, 0, 0, 8018671, 4261720, 1413704, 283560, 36038, 2959, 134, 5]\n"
          ],
          "name": "stdout"
        },
        {
          "output_type": "display_data",
          "data": {
            "image/png": "[encoded data removed]",
            "text/plain": [
              "<Figure size 432x288 with 1 Axes>"
            ]
          },
          "metadata": {
            "tags": [],
            "needs_background": "light"
          }
        },
        {
          "output_type": "stream",
          "text": [
            "Probablity with poker deck: 0.14016791\n",
            "Average number of cards to get 21: 0\n"
          ],
          "name": "stdout"
        }
      ]
    },
    {
      "cell_type": "markdown",
      "metadata": {
        "id": "raWVSz9dkFnE"
      },
      "source": [
        "# 3. Find remaining decks for Spanish and Poker card decks\n",
        "3 (a) Cards=[1,2,3,4,5,6,7,10,11,12]"
      ]
    },
    {
      "cell_type": "code",
      "metadata": {
        "id": "E40MIERUiVeP",
        "outputId": "b2e3b45c-123e-4906-83e4-600e5d023136",
        "colab": {
          "base_uri": "https://localhost:8080/",
          "height": 346
        }
      },
      "source": [
        "cards=compute_half_deck([1,2,3,4,5,6,7,8,9,10,10,10])\n",
        "probability, average = calculate_probability(cards, n=100000000, initial_sum=19, c_count=3)\n",
        "print(\"Probablity with spanish deck: {}\\nAverage number of cards to get 21: {}\".format(probability, average))"
      ],
      "execution_count": null,
      "outputs": [
        {
          "output_type": "stream",
          "text": [
            "Distribution:  [0, 0, 0, 0, 8329845, 361840, 0, 0, 0, 0, 0]\n"
          ],
          "name": "stdout"
        },
        {
          "output_type": "display_data",
          "data": {
            "image/png": "[encoded data removed]",
            "text/plain": [
              "<Figure size 432x288 with 1 Axes>"
            ]
          },
          "metadata": {
            "tags": [],
            "needs_background": "light"
          }
        },
        {
          "output_type": "stream",
          "text": [
            "Probablity with spanish deck: 0.08691685\n",
            "Average number of cards to get 21: 0\n"
          ],
          "name": "stdout"
        }
      ]
    },
    {
      "cell_type": "markdown",
      "metadata": {
        "id": "a__bUGV0kTCl"
      },
      "source": [
        "3 (b) Cards=[1,2,3,4,5,6,7,10,11,12,13]"
      ]
    },
    {
      "cell_type": "code",
      "metadata": {
        "id": "3-ZewNSYjylE",
        "outputId": "0b721f77-3e9f-4da5-bd59-24b277e4456b",
        "colab": {
          "base_uri": "https://localhost:8080/",
          "height": 346
        }
      },
      "source": [
        "cards=compute_half_deck([1,2,3,4,5,6,7,8,9,10,10,10,10])\n",
        "probability, average = calculate_probability(cards, n=100000000, initial_sum=19, c_count=3)\n",
        "print(\"Probablity with poker deck: {}\\nAverage number of cards to get 21: {}\".format(probability, average))"
      ],
      "execution_count": null,
      "outputs": [
        {
          "output_type": "stream",
          "text": [
            "Distribution:  [0, 0, 0, 0, 7694912, 923304, 0, 0, 0, 0, 0]\n"
          ],
          "name": "stdout"
        },
        {
          "output_type": "display_data",
          "data": {
            "image/png": "[encoded data removed]",
            "text/plain": [
              "<Figure size 432x288 with 1 Axes>"
            ]
          },
          "metadata": {
            "tags": [],
            "needs_background": "light"
          }
        },
        {
          "output_type": "stream",
          "text": [
            "Probablity with poker deck: 0.08618216\n",
            "Average number of cards to get 21: 0\n"
          ],
          "name": "stdout"
        }
      ]
    },
    {
      "cell_type": "markdown",
      "metadata": {
        "id": "-_pG_eAyfEyA"
      },
      "source": [
        "# 4. Find remaining decks for Spanish and Poker card decks"
      ]
    },
    {
      "cell_type": "markdown",
      "metadata": {
        "id": "HywO-qW7Ku3r"
      },
      "source": [
        "# Hot Deck Probability - SPANISH & POKER\n",
        "**Anatically.**\n",
        "Given [7,7,5] the probability of getting 2, is:\n",
        "\n",
        "1.  Getting one card: 2\n",
        "2.   Getting two cards: 1, 1\n",
        "\n",
        "*   Probabilidad de sacar 2 con dos cartas 1:\n",
        "$ P_{(2)}$ = ${4}\\choose{2}$ / ${12}\\choose{2} $ \n",
        "*   Probabilidad de sacar 2 con una carta 2:\n",
        "$ P_{(2)} =  \\frac{4}{12}  $ \n",
        "*   Probabilidad total:\n",
        "$P_{(2)}= \\frac{4}{12} + \\frac{6}{66} = 0.424242$ \n"
      ]
    },
    {
      "cell_type": "markdown",
      "metadata": {
        "id": "n5EOq_E2jTTH"
      },
      "source": [
        "## Cold Deck Probability - SPANISH & POKER\n",
        "**Anatically.**\n",
        "Given [7,7,5] the probability of getting 2, is:\n",
        "\n",
        "1.  Getting one card: 2\n",
        "2.   Getting two cards: 1, 1\n",
        "\n",
        "*   Probabilidad de sacar 2 con dos cartas 1:\n",
        "$ P_{(2)} = \\frac{0}{12}$ \n",
        "*   Probabilidad de sacar 2 con una carta 2:\n",
        "$ P_{(2)} = \\frac{0}{12}$ \n",
        "*   Probabilidad total:\n",
        "$ P_{(2)} = \\frac{0}{12}$ \n"
      ]
    },
    {
      "cell_type": "code",
      "metadata": {
        "id": "L7usWFYGWreD"
      },
      "source": [
        "hot_deck = [1, 2, 3]*4 # Spanish and poker have the same hot deck\n",
        "cold_deck = [10, 10, 10]*4 # Spanish and poker have the same cold deck"
      ],
      "execution_count": null,
      "outputs": []
    },
    {
      "cell_type": "code",
      "metadata": {
        "id": "sNCtXnUmW6ij",
        "outputId": "b71cb48c-785d-4c59-978b-7e45b9f80df7",
        "colab": {
          "base_uri": "https://localhost:8080/",
          "height": 181
        }
      },
      "source": [
        "probability, average = calculate_probability(hot_deck, n=10000000, initial_sum=19, c_count=3)\n",
        "print(\"Probablity with spanish and poker hot deck: {}\\nAverage number of cards to get 21: {}\".format(probability, average))"
      ],
      "execution_count": null,
      "outputs": [
        {
          "output_type": "error",
          "ename": "NameError",
          "evalue": "ignored",
          "traceback": [
            "\u001b[0;31m---------------------------------------------------------------------------\u001b[0m",
            "\u001b[0;31mNameError\u001b[0m                                 Traceback (most recent call last)",
            "\u001b[0;32m<ipython-input-2-b970611da2f9>\u001b[0m in \u001b[0;36m<module>\u001b[0;34m()\u001b[0m\n\u001b[0;32m----> 1\u001b[0;31m \u001b[0mprobability\u001b[0m\u001b[0;34m,\u001b[0m \u001b[0maverage\u001b[0m \u001b[0;34m=\u001b[0m \u001b[0mcalculate_probability\u001b[0m\u001b[0;34m(\u001b[0m\u001b[0mhot_deck\u001b[0m\u001b[0;34m,\u001b[0m \u001b[0mn\u001b[0m\u001b[0;34m=\u001b[0m\u001b[0;36m10000000\u001b[0m\u001b[0;34m,\u001b[0m \u001b[0minitial_sum\u001b[0m\u001b[0;34m=\u001b[0m\u001b[0;36m19\u001b[0m\u001b[0;34m,\u001b[0m \u001b[0mc_count\u001b[0m\u001b[0;34m=\u001b[0m\u001b[0;36m3\u001b[0m\u001b[0;34m)\u001b[0m\u001b[0;34m\u001b[0m\u001b[0;34m\u001b[0m\u001b[0m\n\u001b[0m\u001b[1;32m      2\u001b[0m \u001b[0mprint\u001b[0m\u001b[0;34m(\u001b[0m\u001b[0;34m\"Probablity with spanish and poker hot deck: {}\\nAverage number of cards to get 21: {}\"\u001b[0m\u001b[0;34m.\u001b[0m\u001b[0mformat\u001b[0m\u001b[0;34m(\u001b[0m\u001b[0mprobability\u001b[0m\u001b[0;34m,\u001b[0m \u001b[0maverage\u001b[0m\u001b[0;34m)\u001b[0m\u001b[0;34m)\u001b[0m\u001b[0;34m\u001b[0m\u001b[0;34m\u001b[0m\u001b[0m\n",
            "\u001b[0;31mNameError\u001b[0m: name 'calculate_probability' is not defined"
          ]
        }
      ]
    },
    {
      "cell_type": "code",
      "metadata": {
        "id": "eGsi4smdXE5k"
      },
      "source": [
        "probability, average = calculate_probability(cold_deck, n=10000000, initial_sum=19, c_count=3)\n",
        "\n",
        "print(\"Probablity with spanish and poker cold deck: {}\\nAverage number of cards to get 21: {}\".format(probability, average))"
      ],
      "execution_count": null,
      "outputs": []
    },
    {
      "cell_type": "markdown",
      "metadata": {
        "id": "zm8t2v_l89Zy"
      },
      "source": [
        "#5.\n",
        "Estimate the average amount of money (expected value) that Ben wins or losses on a weekend if Ben goes to Vegas every weekend (Friday, Saturday and Sunday), plays every weekend day 10 hours, each game takes 3 mins. Assume that for each game he gets two possibilities, in one he gets in his hand the cards [7,7,5] and a remaining hot deck with 8 cards in which case he bets \\$1000 this happens with probability 1/10; in the other one he gets no cards in his hand a complete shuffled deck in which case he bets \\$10, this happens with the remaining probability 9/10. Use 10000 Montecarlo simulations to estimated the expected amount of money that Ben wins or losses on a weekend for a Spanish 48-card deck with 3 10’s and for a Poker 52-card deck with 4 10’s."
      ]
    },
    {
      "cell_type": "markdown",
      "metadata": {
        "id": "-X3eK4JUeXMd"
      },
      "source": [
        "**Analisis**\n",
        "* It is 30 hours of game every weekend. 3 * 10 = 30 hours\n",
        "* It is equivalent of 1800 minutes. 30 * 60 = 1800 minutes\n",
        "* It is equivalent of 600 games every weekend (the three days). 1800 minutes / 3 minutes per game = 600 games"
      ]
    },
    {
      "cell_type": "markdown",
      "metadata": {
        "id": "G4eMgJZXr8zC"
      },
      "source": [
        "**POKER deck**"
      ]
    },
    {
      "cell_type": "code",
      "metadata": {
        "id": "G9CgFY6smo0O",
        "outputId": "79468617-00c2-4109-d89f-dbfab815cad4",
        "colab": {
          "base_uri": "https://localhost:8080/",
          "height": 34
        }
      },
      "source": [
        "hot_deck = [1, 2, 3]*4\n",
        "normal_deck = [1,2,3,4,5,6,7,8,9,10,10,10,10]*4\n",
        "hot_deck_probability, average = calculate_probability(hot_deck, n=100000000, initial_sum=19, c_count=3, plot=False)\n",
        "normal_deck_probability, average = calculate_probability(normal_deck, n=100000000, plot=False)\n",
        "expected_value_hotdeck = 1000*(hot_deck_probability) - 1000*(1 - hot_deck_probability)\n",
        "expected_value_colddeck = 10*(normal_deck_probability) - 10*(1 - normal_deck_probability)\n",
        "expected_value = 0.1*expected_value_hotdeck + 0.9*expected_value_colddeck\n",
        "print('The expected value for the Spanish deck is: {}'.format(expected_value * 600))"
      ],
      "execution_count": null,
      "outputs": [
        {
          "output_type": "stream",
          "text": [
            "The expected value for the Spanish deck is: -12983.522556000004\n"
          ],
          "name": "stdout"
        }
      ]
    },
    {
      "cell_type": "markdown",
      "metadata": {
        "id": "ISiF0EJZSqoi"
      },
      "source": [
        "**SPANISH deck**"
      ]
    },
    {
      "cell_type": "code",
      "metadata": {
        "id": "qBjD8IExM6uA",
        "outputId": "50ec3b9a-5f35-4e1d-a7f2-34c305a29e25",
        "colab": {
          "base_uri": "https://localhost:8080/",
          "height": 34
        }
      },
      "source": [
        "hot_deck = [1, 2, 3]*4\n",
        "normal_deck = [1,2,3,4,5,6,7,8,9,10,10,10]*4\n",
        "hot_deck_probability, average = calculate_probability(hot_deck, n=100000000, initial_sum=19, c_count=3, plot=False)\n",
        "normal_deck_probability, average = calculate_probability(normal_deck, n=100000000, plot=False)\n",
        "expected_value_hotdeck = 1000*(hot_deck_probability) - 1000*(1 - hot_deck_probability)\n",
        "expected_value_colddeck = 10*(normal_deck_probability) - 10*(1 - normal_deck_probability)\n",
        "expected_value = 0.1*expected_value_hotdeck + 0.9*expected_value_colddeck\n",
        "print('The expected value for the Poker deck is: {}'.format(expected_value * 600))"
      ],
      "execution_count": null,
      "outputs": [
        {
          "output_type": "stream",
          "text": [
            "The expected value for the Spanish deck is: -12881.983080000002\n"
          ],
          "name": "stdout"
        }
      ]
    },
    {
      "cell_type": "markdown",
      "metadata": {
        "id": "NAtqYBRGeabi"
      },
      "source": [
        "# 7. Calculate probabilities\n",
        "**Obtaining [7, 7, 5] cards**\n",
        "\n",
        "**Poker**\n",
        "* Probability of getting two 7's is:\n",
        "* $ P_{(7)}$ = ${4}\\choose{2}$ / ${52}\\choose{2}$ \n",
        "* Probability og getting one 5 is:\n",
        "* $ P_{(5)}$ = $\\frac{4}{52}$ \n",
        "* Total:  $0.0814$\n",
        "\n",
        "**Spanish**\n",
        "* Probability of getting two 7's is:\n",
        "* $ P_{(7)}$ = ${4}\\choose{2}$ / ${48}\\choose{2}$ \n",
        "* Probability of getting one 5 is:\n",
        "* $ P_{(5)}$ = $\\frac{4}{48}$ \n",
        "* Total:  $0.0886$\n",
        "\n",
        "**Probabilty of getting hot deck with 12, 10, 8 cards after [7, 7, 5] cards**\n",
        "* Probability Hot Deck 8 cards is: \n",
        "    * Poker: $ P$ = $\\frac{8}{49}$ \n",
        "    * Spanish: $ P$ = $\\frac{8}{45}$ \n",
        "* Probability Hot Deck 10 cards is: \n",
        "    * Poker: $ P$ = $\\frac{10}{49}$ \n",
        "    * Spanish: $ P$ = $\\frac{10}{45}$ \n",
        "* Probability Hot Deck 12 cards is: \n",
        "    * Poker: $ P$ = $\\frac{12}{49}$ \n",
        "    * Spanish: $ P$ = $\\frac{12}{45}$ \n",
        "\n",
        "# TOTAL\n",
        "**Adding probability of cards in hand and hot deck**\n",
        "* Probability 8 cards:  \n",
        "    * Poker: $0.081 + 0.1633 = 0.245$\n",
        "    * Spanish: $0.088 + 0.177 = 0.266$\n",
        "* Probability 10 cards:\n",
        "    * Poker: $0.081 + 0.204 = 0.0.2855$\n",
        "    * Spanish: $0.088 + 0.222 = 0.3109$\n",
        "* Probability 12 cards: \n",
        "    * Poker: $0.081 + 0.245 = 0.326$\n",
        "    * Spanish: $0.088 + 0.266 = 0.355$"
      ]
    }
  ]
}